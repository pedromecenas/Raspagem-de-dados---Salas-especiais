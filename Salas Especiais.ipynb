{
 "cells": [
  {
   "cell_type": "code",
   "execution_count": 6,
   "metadata": {},
   "outputs": [],
   "source": [
    "import matplotlib.pyplot as plt\n",
    "import pandas as pd\n",
    "low_memory=False\n",
    "pd.options.display.max_columns = 80\n",
    "pd.options.display.max_rows = 90"
   ]
  },
  {
   "cell_type": "code",
   "execution_count": 50,
   "metadata": {},
   "outputs": [],
   "source": [
    "\n",
    "df = pd.read_csv('ESCOLAS.csv', delimiter = '|', encoding='iso-8859-1', usecols=['TP_SITUACAO_FUNCIONAMENTO','IN_ESPECIAL_EXCLUSIVA','CO_ENTIDADE','NO_ENTIDADE'])"
   ]
  },
  {
   "cell_type": "code",
   "execution_count": 51,
   "metadata": {},
   "outputs": [
    {
     "data": {
      "text/plain": [
       "(279358, 4)"
      ]
     },
     "execution_count": 51,
     "metadata": {},
     "output_type": "execute_result"
    }
   ],
   "source": [
    "\n",
    "df.shape"
   ]
  },
  {
   "cell_type": "code",
   "execution_count": 52,
   "metadata": {},
   "outputs": [
    {
     "data": {
      "text/plain": [
       "'Total de escolas com salas exclusivas para alunos especiais: 3619'"
      ]
     },
     "execution_count": 52,
     "metadata": {},
     "output_type": "execute_result"
    }
   ],
   "source": [
    "total = df.query('TP_SITUACAO_FUNCIONAMENTO == 1 and IN_ESPECIAL_EXCLUSIVA==1')['NO_ENTIDADE'].count()\n",
    "f'Total de escolas com salas exclusivas para alunos especiais: {total}'"
   ]
  },
  {
   "cell_type": "code",
   "execution_count": 53,
   "metadata": {},
   "outputs": [
    {
     "data": {
      "text/plain": [
       "'Total de escolas: 187891'"
      ]
     },
     "execution_count": 53,
     "metadata": {},
     "output_type": "execute_result"
    }
   ],
   "source": [
    "totalEsc = df.query('TP_SITUACAO_FUNCIONAMENTO == 1')['NO_ENTIDADE'].count()\n",
    "f'Total de escolas: {totalEsc}'"
   ]
  },
  {
   "cell_type": "code",
   "execution_count": 55,
   "metadata": {
    "scrolled": true
   },
   "outputs": [
    {
     "data": {
      "text/html": [
       "<div>\n",
       "<style scoped>\n",
       "    .dataframe tbody tr th:only-of-type {\n",
       "        vertical-align: middle;\n",
       "    }\n",
       "\n",
       "    .dataframe tbody tr th {\n",
       "        vertical-align: top;\n",
       "    }\n",
       "\n",
       "    .dataframe thead th {\n",
       "        text-align: right;\n",
       "    }\n",
       "</style>\n",
       "<table border=\"1\" class=\"dataframe\">\n",
       "  <thead>\n",
       "    <tr style=\"text-align: right;\">\n",
       "      <th></th>\n",
       "      <th>NO_ENTIDADE</th>\n",
       "      <th>CO_ENTIDADE</th>\n",
       "    </tr>\n",
       "  </thead>\n",
       "  <tbody>\n",
       "    <tr>\n",
       "      <td>232967</td>\n",
       "      <td>EEEE ABNAEL MACHADO DE LIMA - CENE</td>\n",
       "      <td>11000023</td>\n",
       "    </tr>\n",
       "    <tr>\n",
       "      <td>246982</td>\n",
       "      <td>EEEF 21 DE ABRIL</td>\n",
       "      <td>11000376</td>\n",
       "    </tr>\n",
       "    <tr>\n",
       "      <td>189428</td>\n",
       "      <td>EEEFM BARAO DO SOLIMOES</td>\n",
       "      <td>11002468</td>\n",
       "    </tr>\n",
       "    <tr>\n",
       "      <td>176594</td>\n",
       "      <td>ASSOCIACAO PESTALOZZI DE PORTO VELHO</td>\n",
       "      <td>11003294</td>\n",
       "    </tr>\n",
       "    <tr>\n",
       "      <td>189433</td>\n",
       "      <td>ESCOLA DE EDUCACAO ESPECIAL NOVO MUNDO - ASSOC...</td>\n",
       "      <td>11006714</td>\n",
       "    </tr>\n",
       "    <tr>\n",
       "      <td>42294</td>\n",
       "      <td>APAE DE ARIQUEMES</td>\n",
       "      <td>11006722</td>\n",
       "    </tr>\n",
       "    <tr>\n",
       "      <td>233365</td>\n",
       "      <td>APAE JOSE DE CASTRO PEREIRA DOS SANTOS</td>\n",
       "      <td>11007966</td>\n",
       "    </tr>\n",
       "    <tr>\n",
       "      <td>219676</td>\n",
       "      <td>APAE PRECISO DE CARINHO</td>\n",
       "      <td>11011157</td>\n",
       "    </tr>\n",
       "    <tr>\n",
       "      <td>158096</td>\n",
       "      <td>ESCOLA JOHAN HEINRICH PESTALOZZI</td>\n",
       "      <td>11017848</td>\n",
       "    </tr>\n",
       "    <tr>\n",
       "      <td>233742</td>\n",
       "      <td>CEEJA GETULIO VARGAS</td>\n",
       "      <td>11022256</td>\n",
       "    </tr>\n",
       "  </tbody>\n",
       "</table>\n",
       "</div>"
      ],
      "text/plain": [
       "                                              NO_ENTIDADE  CO_ENTIDADE\n",
       "232967                 EEEE ABNAEL MACHADO DE LIMA - CENE     11000023\n",
       "246982                                   EEEF 21 DE ABRIL     11000376\n",
       "189428                            EEEFM BARAO DO SOLIMOES     11002468\n",
       "176594               ASSOCIACAO PESTALOZZI DE PORTO VELHO     11003294\n",
       "189433  ESCOLA DE EDUCACAO ESPECIAL NOVO MUNDO - ASSOC...     11006714\n",
       "42294                                   APAE DE ARIQUEMES     11006722\n",
       "233365             APAE JOSE DE CASTRO PEREIRA DOS SANTOS     11007966\n",
       "219676                            APAE PRECISO DE CARINHO     11011157\n",
       "158096                   ESCOLA JOHAN HEINRICH PESTALOZZI     11017848\n",
       "233742                               CEEJA GETULIO VARGAS     11022256"
      ]
     },
     "execution_count": 55,
     "metadata": {},
     "output_type": "execute_result"
    }
   ],
   "source": [
    "df.query('TP_SITUACAO_FUNCIONAMENTO == 1 and IN_ESPECIAL_EXCLUSIVA==1')[['NO_ENTIDADE','CO_ENTIDADE']].sort_values(by='CO_ENTIDADE').head(10)"
   ]
  },
  {
   "cell_type": "code",
   "execution_count": 71,
   "metadata": {},
   "outputs": [
    {
     "data": {
      "image/png": "[encoded data removed]",
      "text/plain": [
       "<Figure size 720x792 with 1 Axes>"
      ]
     },
     "metadata": {},
     "output_type": "display_data"
    }
   ],
   "source": [
    "str1=['Total de Escolas','Escolas com Salas para alunos Especiais']\n",
    "val = [187891,3619]\n",
    "total = sum(val)\n",
    "fig=plt.subplots(figsize=(10,11))\n",
    "explode = (0.1, 0.1)\n",
    "plt.pie(val,explode = explode , labels = str1, colors=['gold', 'lightskyblue'], autopct=lambda p:'{:.0f}'.format(p * total / 100))\n",
    "plt.axis('equal')\n",
    "plt.show()"
   ]
  },
  {
   "cell_type": "code",
   "execution_count": null,
   "metadata": {},
   "outputs": [],
   "source": []
  }
 ],
 "metadata": {
  "kernelspec": {
   "display_name": "Python 3",
   "language": "python",
   "name": "python3"
  },
  "language_info": {
   "codemirror_mode": {
    "name": "ipython",
    "version": 3
   },
   "file_extension": ".py",
   "mimetype": "text/x-python",
   "name": "python",
   "nbconvert_exporter": "python",
   "pygments_lexer": "ipython3",
   "version": "3.7.4"
  }
 },
 "nbformat": 4,
 "nbformat_minor": 2
}
